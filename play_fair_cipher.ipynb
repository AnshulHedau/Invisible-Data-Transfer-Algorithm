{
 "cells": [
  {
   "cell_type": "markdown",
   "metadata": {},
   "source": [
    "Playfair Cipher\n",
    "----------------\n"
   ]
  },
  {
   "cell_type": "markdown",
   "metadata": {},
   "source": [
    "### Difining the matrix function to make 5*5 matrix"
   ]
  },
  {
   "cell_type": "code",
   "execution_count": 1,
   "metadata": {
    "collapsed": true
   },
   "outputs": [],
   "source": [
    "def matrix(key):\n",
    "    matrix=[]\n",
    "    for e in key.upper():\n",
    "        if e not in matrix:\n",
    "            matrix.append(e)\n",
    "    alphabet=\"ABCDEFGHIKLMNOPQRSTUVWXYZ\"\n",
    "    \n",
    "    for e in alphabet:\n",
    "        if e not in matrix:\n",
    "            matrix.append(e)\n",
    "            \n",
    "    matrix_group=[]\n",
    "    for e in range(5):\n",
    "        matrix_group.append('')\n",
    "\n",
    "    #Break it into 5*5\n",
    "    matrix_group[0]=matrix[0:5]\n",
    "    matrix_group[1]=matrix[5:10]\n",
    "    matrix_group[2]=matrix[10:15]\n",
    "    matrix_group[3]=matrix[15:20]\n",
    "    matrix_group[4]=matrix[20:25]\n",
    "    return matrix_group"
   ]
  },
  {
   "cell_type": "markdown",
   "metadata": {},
   "source": [
    "### Converting Message to digraph"
   ]
  },
  {
   "cell_type": "code",
   "execution_count": 2,
   "metadata": {
    "collapsed": true
   },
   "outputs": [],
   "source": [
    "def message_to_digraphs(message_original):\n",
    "\t#Change it to Array. Because I want used insert() method\n",
    "\tmessage=[]\n",
    "\tfor e in message_original:\n",
    "\t\tmessage.append(e)\n",
    "\n",
    "\t#Delete space\n",
    "\tfor unused in range(len(message)):\n",
    "\t\tif \" \" in message:\n",
    "\t\t\tmessage.remove(\" \")\n",
    "\n",
    "\t#If both letters are the same, add an \"X\" after the first letter.\n",
    "\ti=0\n",
    "\tfor e in range(int(len(message)/2)):\n",
    "\t\tif message[i]==message[i+1]:\n",
    "\t\t\tmessage.insert(i+1,'X')\n",
    "\t\ti=i+2\n",
    "\n",
    "\t#If it is odd digit, add an \"X\" at the end\n",
    "\tif len(message)%2==1:\n",
    "\t\tmessage.append(\"X\")\n",
    "\t#Grouping\n",
    "\ti=0\n",
    "\tnew=[]\n",
    "\tfor x in range(1,int(len(message)/2+1)):\n",
    "\t\tnew.append(message[i:i+2])\n",
    "\t\ti=i+2\n",
    "\treturn new"
   ]
  },
  {
   "cell_type": "markdown",
   "metadata": {},
   "source": [
    "### Finding the positions of the letter in the matrix"
   ]
  },
  {
   "cell_type": "code",
   "execution_count": 3,
   "metadata": {
    "collapsed": true
   },
   "outputs": [],
   "source": [
    "def find_position(key_matrix,letter):\n",
    "\tx=y=0\n",
    "\tfor i in range(5):\n",
    "\t\tfor j in range(5):\n",
    "\t\t\tif key_matrix[i][j]==letter:\n",
    "\t\t\t\tx=i\n",
    "\t\t\t\ty=j\n",
    "\n",
    "\treturn x,y"
   ]
  },
  {
   "cell_type": "markdown",
   "metadata": {},
   "source": [
    "### Encrypting Routine"
   ]
  },
  {
   "cell_type": "code",
   "execution_count": 4,
   "metadata": {
    "collapsed": true
   },
   "outputs": [],
   "source": [
    "def encrypt(message):\n",
    "\tmessage=message_to_digraphs(message)\n",
    "\tkey_matrix=matrix(key)\n",
    "\tcipher=[]\n",
    "\tfor e in message:\n",
    "\t\tp1,q1=find_position(key_matrix,e[0])\n",
    "\t\tp2,q2=find_position(key_matrix,e[1])\n",
    "\t\tif p1==p2:\n",
    "\t\t\tif q1==4:\n",
    "\t\t\t\tq1=-1\n",
    "\t\t\tif q2==4:\n",
    "\t\t\t\tq2=-1\n",
    "\t\t\tcipher.append(key_matrix[p1][q1+1])\n",
    "\t\t\tcipher.append(key_matrix[p1][q2+1])\t\t\n",
    "\t\telif q1==q2:\n",
    "\t\t\tif p1==4:\n",
    "\t\t\t\tp1=-1;\n",
    "\t\t\tif p2==4:\n",
    "\t\t\t\tp2=-1;\n",
    "\t\t\tcipher.append(key_matrix[p1+1][q1])\n",
    "\t\t\tcipher.append(key_matrix[p2+1][q2])\n",
    "\t\telse:\n",
    "\t\t\tcipher.append(key_matrix[p1][q2])\n",
    "\t\t\tcipher.append(key_matrix[p2][q1])\n",
    "\treturn cipher"
   ]
  },
  {
   "cell_type": "markdown",
   "metadata": {},
   "source": [
    "### Converting Cipher text to digraph"
   ]
  },
  {
   "cell_type": "code",
   "execution_count": 5,
   "metadata": {
    "collapsed": true
   },
   "outputs": [],
   "source": [
    "def cipher_to_digraphs(cipher):\n",
    "\ti=0\n",
    "\tnew=[]\n",
    "\tfor x in range(int(len(cipher)/2)):\n",
    "\t\tnew.append(cipher[i:i+2])\n",
    "\t\ti=i+2\n",
    "\treturn new"
   ]
  },
  {
   "cell_type": "markdown",
   "metadata": {},
   "source": [
    "### Decryption Routine"
   ]
  },
  {
   "cell_type": "code",
   "execution_count": 6,
   "metadata": {
    "collapsed": true
   },
   "outputs": [],
   "source": [
    "def decrypt(cipher):\t\n",
    "\tcipher=cipher_to_digraphs(cipher)\n",
    "\tkey_matrix=matrix(key)\n",
    "\tplaintext=[]\n",
    "\tfor e in cipher:\n",
    "\t\tp1,q1=find_position(key_matrix,e[0])\n",
    "\t\tp2,q2=find_position(key_matrix,e[1])\n",
    "\t\tif p1==p2:\n",
    "\t\t\tif q1==4:\n",
    "\t\t\t\tq1=-1\n",
    "\t\t\tif q2==4:\n",
    "\t\t\t\tq2=-1\n",
    "\t\t\tplaintext.append(key_matrix[p1][q1-1])\n",
    "\t\t\tplaintext.append(key_matrix[p1][q2-1])\t\t\n",
    "\t\telif q1==q2:\n",
    "\t\t\tif p1==4:\n",
    "\t\t\t\tp1=-1;\n",
    "\t\t\tif p2==4:\n",
    "\t\t\t\tp2=-1;\n",
    "\t\t\tplaintext.append(key_matrix[p1-1][q1])\n",
    "\t\t\tplaintext.append(key_matrix[p2-1][q2])\n",
    "\t\telse:\n",
    "\t\t\tplaintext.append(key_matrix[p1][q2])\n",
    "\t\t\tplaintext.append(key_matrix[p2][q1])\n",
    "\n",
    "\tfor unused in range(len(plaintext)):\n",
    "\t\tif \"X\" in plaintext:\n",
    "\t\t\tplaintext.remove(\"X\")\n",
    "\t\n",
    "\toutput=\"\"\n",
    "\tfor e in plaintext:\n",
    "\t\toutput+=e\n",
    "\treturn output.lower()"
   ]
  },
  {
   "cell_type": "markdown",
   "metadata": {},
   "source": [
    "### Menu driven code for Encryption and Decryption"
   ]
  },
  {
   "cell_type": "code",
   "execution_count": 7,
   "metadata": {},
   "outputs": [
    {
     "name": "stdout",
     "output_type": "stream",
     "text": [
      "Playfair Cipher\n",
      "Choose :\n",
      "1, Encrypting \n",
      "2, Decrypting\n",
      "1\n",
      "Please input the key : Anshul\n",
      "Encrypting: \n",
      "Message: HELLO_THISISANSHUL\n",
      "Break the message into digraphs: \n",
      "[['H', 'E'], ['L', 'X'], ['L', 'O'], ['_', 'T'], ['H', 'I'], ['S', 'I'], ['S', 'A'], ['N', 'S'], ['H', 'U'], ['L', 'X']]\n",
      "Matrix: \n",
      "[['A', 'N', 'S', 'H', 'U'], ['L', 'B', 'C', 'D', 'E'], ['F', 'G', 'I', 'K', 'M'], ['O', 'P', 'Q', 'R', 'T'], ['V', 'W', 'X', 'Y', 'Z']]\n",
      "Cipher: \n",
      "['U', 'D', 'C', 'V', 'F', 'V', 'U', 'O', 'S', 'K', 'C', 'Q', 'H', 'N', 'S', 'H', 'U', 'A', 'C', 'V']\n",
      "Encrypting: \n",
      "Message: IAMASTUDENT\n",
      "Break the message into digraphs: \n",
      "[['I', 'A'], ['M', 'A'], ['S', 'T'], ['U', 'D'], ['E', 'N'], ['T', 'X']]\n",
      "Matrix: \n",
      "[['A', 'N', 'S', 'H', 'U'], ['L', 'B', 'C', 'D', 'E'], ['F', 'G', 'I', 'K', 'M'], ['O', 'P', 'Q', 'R', 'T'], ['V', 'W', 'X', 'Y', 'Z']]\n",
      "Cipher: \n",
      "['F', 'S', 'F', 'U', 'U', 'Q', 'H', 'E', 'B', 'U', 'Q', 'Z']\n"
     ]
    }
   ],
   "source": [
    "print (\"Playfair Cipher\")\n",
    "order=input(\"Choose :\\n1, Encrypting \\n2, Decrypting\\n\")\n",
    "if order=='1':\n",
    "    key=input(\"Please input the key : \")\n",
    "    text = open('./texttobeencypted.txt','r')\n",
    "    text_output = open('./encrypted.txt','w')\n",
    "    line = []\n",
    "    for lines in text:\n",
    "        lines = lines.split('\\n')[0]\n",
    "        message = lines\n",
    "        #message=input(\"Please input the message : \")\n",
    "        print (\"Encrypting: \\n\"+\"Message: \"+message.upper())\n",
    "        print (\"Break the message into digraphs: \")\n",
    "        print (message_to_digraphs(message.upper()))\n",
    "        print (\"Matrix: \")\n",
    "        print (matrix(key)) \n",
    "        print (\"Cipher: \") \n",
    "        print (encrypt(message.upper()))\n",
    "        list1 = encrypt(message.upper())\n",
    "        str1 = ''.join(list1)\n",
    "        str1 = str1 + '\\n'\n",
    "        text_output.write(str1)\n",
    "    text_output.close()\n",
    "elif order=='2':\n",
    "    key=input(\"Please input the key : \")\n",
    "    text = open('./encrypted.txt','r')\n",
    "    text_output = open('./decrypted.txt','w')\n",
    "    for lines in text:\n",
    "        lines = lines.split('\\n')[0]\n",
    "        cipher=lines\n",
    "        print (\"\\nDecrypting: \\n\"+\"Cipher: \"+cipher)\n",
    "        print (\"Plaintext:\")\n",
    "        print (decrypt(cipher))\n",
    "        str1 = decrypt(cipher) + '\\n'\n",
    "        #print(str1)\n",
    "        text_output.write(str1)\n",
    "    text_output.close()\n",
    "else:\n",
    "    print (\"Error\")"
   ]
  }
 ],
 "metadata": {
  "kernelspec": {
   "display_name": "Python 3",
   "language": "python",
   "name": "python3"
  },
  "language_info": {
   "codemirror_mode": {
    "name": "ipython",
    "version": 3
   },
   "file_extension": ".py",
   "mimetype": "text/x-python",
   "name": "python",
   "nbconvert_exporter": "python",
   "pygments_lexer": "ipython3",
   "version": "3.6.1"
  },
  "widgets": {
   "application/vnd.jupyter.widget-state+json": {
    "state": {},
    "version_major": 2,
    "version_minor": 0
   }
  }
 },
 "nbformat": 4,
 "nbformat_minor": 2
}
